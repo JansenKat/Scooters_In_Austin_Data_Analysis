{
 "cells": [
  {
   "cell_type": "code",
   "execution_count": 4,
   "metadata": {},
   "outputs": [],
   "source": [
    "import pandas as pd \n",
    "import os\n",
    "import csv"
   ]
  },
  {
   "cell_type": "code",
   "execution_count": null,
   "metadata": {
    "scrolled": true
   },
   "outputs": [],
   "source": [
    "csvpath1 = os.path.join(\"resources/zip_tract_092019.csv\")\n",
    "zip_data = pd.read_csv(csvpath1)\n",
    "zip_data"
   ]
  },
  {
   "cell_type": "code",
   "execution_count": null,
   "metadata": {
    "scrolled": true
   },
   "outputs": [],
   "source": [
    "csvpath2 = os.path.join(\"resources/shared_mobility_data.csv\")\n",
    "shared_mob_data = pd.read_csv(csvpath2)\n",
    "shared_mob_data\n"
   ]
  },
  {
   "cell_type": "code",
   "execution_count": null,
   "metadata": {},
   "outputs": [],
   "source": [
    "# copying Sana's work:\n",
    "\n",
    "zip_data[[\"zip\", \"GEOID End\"]] = zip_data[[\"zip\", \"GEOID End\"]].astype(str)\n",
    "\n",
    "zip_data\n",
    "\n",
    "\n",
    "zip_data_merge = pd.merge(clean_results_df,zip_data, on= \"GEOID End\", how =\"right\" )\n",
    "\n",
    "zip_data_merge.dropna()\n",
    "\n",
    "merged_df = zip_data_merge.drop(columns=['res_ratio', 'bus_ratio', 'oth_ratio','tot_ratio']).dropna()"
   ]
  },
  {
   "cell_type": "code",
   "execution_count": null,
   "metadata": {},
   "outputs": [],
   "source": [
    "#shared_mobility_df.join = pd.merge(shared_mob_data,zip_data, on =\"zip\", how ='left')"
   ]
  },
  {
   "cell_type": "code",
   "execution_count": null,
   "metadata": {},
   "outputs": [],
   "source": []
  }
 ],
 "metadata": {
  "kernelspec": {
   "display_name": "pipenv_pandas",
   "language": "python",
   "name": "python3"
  },
  "language_info": {
   "codemirror_mode": {
    "name": "ipython",
    "version": 3
   },
   "file_extension": ".py",
   "mimetype": "text/x-python",
   "name": "python",
   "nbconvert_exporter": "python",
   "pygments_lexer": "ipython3",
   "version": "3.7.4"
  }
 },
 "nbformat": 4,
 "nbformat_minor": 2
}
