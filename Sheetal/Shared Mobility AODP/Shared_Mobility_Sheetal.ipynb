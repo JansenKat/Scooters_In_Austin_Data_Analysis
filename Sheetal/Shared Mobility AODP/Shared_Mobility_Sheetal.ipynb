{
 "cells": [
  {
   "cell_type": "markdown",
   "metadata": {},
   "source": [
    "## Shared Micromobility Vehicle Trips Data Analysis\n",
    "\n",
    "### Data Source and API\n",
    "- AODP Dataset Access: https://data.austintexas.gov/Transportation-and-Mobility/Shared-Micromobility-Vehicle-Trips/7d8e-dm7r\n",
    "- API Endpoint: https://data.austintexas.gov/resource/7d8e-dm7r.json\n",
    "- API Documentation: https://dev.socrata.com/foundry/data.austintexas.gov/7d8e-dm7r\n",
    "\n",
    "To access the dataset host, install SODA API first:\n",
    "    `pip install sodapy`\n",
    "\n",
    "### Data Extraction\n",
    "\n",
    "- Data Provided\n",
    "    - trip_id\n",
    "    - device_id\n",
    "    - modified_date\n",
    "    - council_district_start\n",
    "    - council_district_end\n",
    "    - vehicle_type\n",
    "    - trip_duration\n",
    "    - trip_distance\n",
    "    - start_time\n",
    "    - end_time\n",
    "    - month\n",
    "    - hour\n",
    "    - day_of_week\n",
    "    - year\n",
    "    - census_geoid_start\n",
    "    - census_geoid_end"
   ]
  },
  {
   "cell_type": "code",
   "execution_count": 1,
   "metadata": {},
   "outputs": [],
   "source": [
    "# Dependencies and packages\n",
    "import os\n",
    "import matplotlib.pyplot as plt\n",
    "import pandas as pd\n",
    "import numpy as np\n",
    "import math as math\n",
    "import datetime as dt\n",
    "import seaborn as sns\n",
    "import pandas as pd\n",
    "from sodapy import Socrata"
   ]
  },
  {
   "cell_type": "code",
   "execution_count": 2,
   "metadata": {},
   "outputs": [],
   "source": [
    "# Output File (CSV)\n",
    "output_data_file = \"Data_Files/clean_shared_mobility.csv\""
   ]
  },
  {
   "cell_type": "code",
   "execution_count": null,
   "metadata": {},
   "outputs": [
    {
     "name": "stderr",
     "output_type": "stream",
     "text": [
      "WARNING:root:Requests made without an app_token will be subject to strict throttling limits.\n"
     ]
    }
   ],
   "source": [
    "# url = https://data.austintexas.gov/resource/7d8e-dm7r.json\n",
    "# Data Extraction:\n",
    "client = Socrata(\"data.austintexas.gov\", None)\n",
    "\n",
    "results = client.get(\"7d8e-dm7r\", limit=83000000)\n",
    "\n",
    "# Convert to pandas DataFrame\n",
    "results_df = pd.DataFrame.from_records(results)"
   ]
  },
  {
   "cell_type": "code",
   "execution_count": null,
   "metadata": {},
   "outputs": [],
   "source": [
    "results_df.head()"
   ]
  },
  {
   "cell_type": "code",
   "execution_count": null,
   "metadata": {},
   "outputs": [],
   "source": [
    "# Check for missing values:\n",
    "results_df.count()"
   ]
  },
  {
   "cell_type": "code",
   "execution_count": null,
   "metadata": {},
   "outputs": [],
   "source": [
    "missing_vehicle_type = results_df[\"vehicle_type\"].isnull().sum()\n",
    "print(f\"There are {missing_vehicle_type} missing vehicle types.\")\n",
    "missing_month = results_df[\"month\"].isnull().sum()\n",
    "print(f\"There are {missing_month} missing months.\")\n",
    "missing_census_geoid_start = results_df[\"census_geoid_start\"].isnull().sum()\n",
    "print(f\"There are {missing_census_geoid_start} missing census_geoid_start.\")"
   ]
  },
  {
   "cell_type": "markdown",
   "metadata": {},
   "source": [
    "### Data Cleaning"
   ]
  },
  {
   "cell_type": "code",
   "execution_count": null,
   "metadata": {},
   "outputs": [],
   "source": [
    "clean_results_df = results_df.copy()"
   ]
  },
  {
   "cell_type": "code",
   "execution_count": null,
   "metadata": {},
   "outputs": [],
   "source": [
    "clean_results_df"
   ]
  },
  {
   "cell_type": "code",
   "execution_count": null,
   "metadata": {},
   "outputs": [],
   "source": [
    "clean_results_df = clean_results_df.rename(columns = {\n",
    "    \"trip_id\": \"Trip ID\",\n",
    "    \"device_id\": \"Device ID\",\n",
    "    \"modified_date\": \"Data Modified Date\",\n",
    "    \"vehicle_type\": \"Vehicle Type\",\n",
    "    \"trip_duration\": \"Trip Duration\",\n",
    "    \"trip_distance\": \"Trip Distance\",\n",
    "    \"start_time\": \"Trip Start Time\",\n",
    "    \"end_time\": \"Trip End Time\",\n",
    "    \"hour\": \"Hour\",\n",
    "    \"day_of_week\": \"Day Of Week\",\n",
    "    \"month\": \"Month\",\n",
    "    \"year\": \"Year\",\n",
    "    \"census_geoid_start\": \"GEOID Start\",\n",
    "    \"census_geoid_end\": \"GEOID End\",\n",
    "    \"council_district_start\": \"Start Council District\",\n",
    "    \"council_district_end\" : \"Return Council District\"\n",
    "})"
   ]
  },
  {
   "cell_type": "code",
   "execution_count": null,
   "metadata": {},
   "outputs": [],
   "source": [
    "clean_results_df.head()"
   ]
  },
  {
   "cell_type": "code",
   "execution_count": null,
   "metadata": {},
   "outputs": [],
   "source": [
    "#Find the total number of scooter rides:\n",
    "scooters = clean_results_df[clean_results_df[\"Vehicle Type\"] == \"scooter\"]\n",
    "total_scooters = len(clean_results_df) - scooters.shape[0]\n",
    "total_scooters"
   ]
  },
  {
   "cell_type": "code",
   "execution_count": null,
   "metadata": {},
   "outputs": [],
   "source": [
    "#Find the total number of bicycle rides:\n",
    "bicycles = clean_results_df[clean_results_df[\"Vehicle Type\"] == \"bicycle\"]\n",
    "total_bicycles = len(clean_results_df) - bicycles.shape[0]\n",
    "total_bicycles"
   ]
  },
  {
   "cell_type": "code",
   "execution_count": null,
   "metadata": {},
   "outputs": [],
   "source": [
    "#Check to tally the total rides \n",
    "total_rides = total_bicycles + total_scooters\n",
    "total_rides"
   ]
  },
  {
   "cell_type": "code",
   "execution_count": null,
   "metadata": {},
   "outputs": [],
   "source": [
    "# Drop all the null values\n",
    "clean_results_df = clean_results_df.dropna(how='any')\n",
    "clean_results_df.head()"
   ]
  },
  {
   "cell_type": "code",
   "execution_count": null,
   "metadata": {},
   "outputs": [],
   "source": [
    "# Find the number of unique devices\n",
    "device_id_list =  clean_results_df[\"Device ID\"].value_counts()\n",
    "device_id_list"
   ]
  },
  {
   "cell_type": "code",
   "execution_count": null,
   "metadata": {},
   "outputs": [],
   "source": [
    "# Find the number of unique GEOIDs where the trips started\n",
    "start_geoid = clean_results_df[\"GEOID Start\"].value_counts()\n",
    "start_geoid"
   ]
  },
  {
   "cell_type": "code",
   "execution_count": null,
   "metadata": {},
   "outputs": [],
   "source": [
    "# Find the number of unique GEOIDs where the trips ended\n",
    "end_geoid = clean_results_df[\"GEOID End\"].value_counts()\n",
    "end_geoid"
   ]
  },
  {
   "cell_type": "code",
   "execution_count": null,
   "metadata": {},
   "outputs": [],
   "source": [
    "# Change the time and date format for columns - 'Data Modified Date', 'Trip Start time' and 'Trip End Time'\n",
    "clean_results_df['Trip Start Time'] = pd.to_datetime(clean_results_df['Trip Start Time'])\n",
    "clean_results_df['Trip End Time'] = pd.to_datetime(clean_results_df['Trip End Time'])\n",
    "clean_results_df['Data Modified Date'] = pd.to_datetime(clean_results_df['Data Modified Date'])\n",
    "clean_results_df.head()"
   ]
  },
  {
   "cell_type": "markdown",
   "metadata": {},
   "source": [
    "### Visualization of the Clean Data Set"
   ]
  },
  {
   "cell_type": "code",
   "execution_count": null,
   "metadata": {},
   "outputs": [],
   "source": [
    "# Count trips per day and sort by day:\n",
    "daily_total = pd.DataFrame(clean_results_df['Day Of Week'].value_counts().sort_index())\n",
    "\n",
    "# Map day of week for better labels. Data documentation indicates \"0=Sunday and so on.\"\"\n",
    "days = ['Sunday', 'Monday', 'Tuesday', 'Wednesday', 'Thursday', 'Friday', 'Saturday']\n",
    "daily_total['Day'] = days\n",
    "\n",
    "# Plot\n",
    "daily_total.plot(kind='bar', x='Day', y='Day Of Week', title='Total Trip Counts by Day of week', figsize = (10,5), rot= 30, legend=False)\n",
    "plt.ylabel(\"Number of Trips\")\n",
    "plt.savefig(\"Plots/trips_per_week.png\")\n",
    "plt.show()"
   ]
  },
  {
   "cell_type": "code",
   "execution_count": null,
   "metadata": {},
   "outputs": [],
   "source": [
    "# Count trips per hour and sort by hour:\n",
    "hourly_total = pd.DataFrame(clean_results_df['Hour'].value_counts().sort_index())\n",
    "#hours = ['0','1','2','3','4','5','6','7','8','9','10','11','12','13','14','15','16','17','18', '19','20','21','22','23']\n",
    "#hours = ['0','1','10','11','12','13','14','15','16','17','18','19','2','20','21','22','23','3','4','5','6','7','8','9']\n",
    "#hourly_total['Hours'] = hours\n",
    "\n",
    "hourly_total.reset_index().plot(kind='bar', x='index', y='Hour', title='Total Trip Counts by Hour', figsize = (10,5), legend=False)\n",
    "plt.xlabel('Hours')\n",
    "plt.ylabel('Number of Trips')\n",
    "plt.savefig(\"Plots/trips_per_hour.png\")\n",
    "plt.show()\n",
    "#now shows correct plot but xticks not sorted"
   ]
  },
  {
   "cell_type": "code",
   "execution_count": null,
   "metadata": {},
   "outputs": [],
   "source": [
    "hourly_total"
   ]
  },
  {
   "cell_type": "code",
   "execution_count": null,
   "metadata": {},
   "outputs": [],
   "source": [
    "monthly_total = pd.DataFrame(clean_results_df['Month'].value_counts()).sort_index()\n",
    "import calendar\n",
    "mn=[calendar.month_name[int(x)] for x in monthly_total.index.values.tolist()]\n",
    "\n",
    "monthly_chart = monthly_total.plot.bar(title = \"Total Trips per Month \",width = 0.75,figsize = (10,5),rot = 30, legend = False)\n",
    "monthly_chart.set_xticklabels(mn)\n",
    "monthly_chart.set_xlabel(\"Trip Months\")\n",
    "monthly_chart.set_ylabel(\"Total Trip Count\")\n",
    "plt.savefig(\"Plots/trips_per_month1.png\")\n",
    "plt.show()\n",
    "#shows correct plot but xticks not sorted"
   ]
  },
  {
   "cell_type": "code",
   "execution_count": null,
   "metadata": {},
   "outputs": [],
   "source": [
    "month_list = ['January', 'February', 'March', 'April', 'May', 'June', 'July', 'August', 'September', 'October', 'November', 'December']\n",
    "monthly_total['Months'] = month_list\n",
    "monthly_total.reset_index().plot(kind='bar', x='index', y='Month', title='Total Trip Counts by months', figsize = (10,5), legend=False)\n",
    "plt.ylabel('Number of Trips')\n",
    "plt.savefig(\"Plots/trips_per_month2.png\")\n",
    "plt.show()\n",
    "#now shows correct plot but xticks not sorted"
   ]
  },
  {
   "cell_type": "code",
   "execution_count": null,
   "metadata": {},
   "outputs": [],
   "source": [
    "# Count how many trips started in each census GEOID tract\n",
    "census_trip_start['Total Trips'] = pd.DataFrame(clean_results_df['GEOID Start'].value_counts())\n",
    "\n",
    "# Count how many trips ended in each census tract\n",
    "census_trip_end = pd.DataFrame(clean_results_df['GEOID End'].value_counts())\n",
    "\n",
    "plt.bar(clean_results_df[\"GEOID Start\"], census_trip_start ['Total Trips'])\n",
    "plt.title(\"Total Count of trips starting per Census Tract\")\n",
    "plt.xlabel(\"GEOID ID\")\n",
    "plt.ylabel(\"Total Trips\")\n",
    "\n",
    "plt.show()"
   ]
  },
  {
   "cell_type": "code",
   "execution_count": null,
   "metadata": {},
   "outputs": [],
   "source": []
  }
 ],
 "metadata": {
  "kernelspec": {
   "display_name": "pipenv_pandas",
   "language": "python",
   "name": "python3"
  },
  "language_info": {
   "codemirror_mode": {
    "name": "ipython",
    "version": 3
   },
   "file_extension": ".py",
   "mimetype": "text/x-python",
   "name": "python",
   "nbconvert_exporter": "python",
   "pygments_lexer": "ipython3",
   "version": "3.7.4"
  }
 },
 "nbformat": 4,
 "nbformat_minor": 2
}
